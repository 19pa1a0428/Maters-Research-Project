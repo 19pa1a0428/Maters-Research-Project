{
  "nbformat": 4,
  "nbformat_minor": 0,
  "metadata": {
    "colab": {
      "provenance": []
    },
    "kernelspec": {
      "name": "python3",
      "display_name": "Python 3"
    },
    "language_info": {
      "name": "python"
    }
  },
  "cells": [
    {
      "cell_type": "code",
      "execution_count": null,
      "metadata": {
        "colab": {
          "base_uri": "https://localhost:8080/"
        },
        "id": "GqNLgCjo5A5q",
        "outputId": "d19c2294-58ab-4d26-a3cb-ee01bc147f89"
      },
      "outputs": [
        {
          "output_type": "stream",
          "name": "stdout",
          "text": [
            "Warning: Looks like you're using an outdated `kagglehub` version (installed: 0.3.7), please consider upgrading to the latest version (0.3.8).\n",
            "Downloading from https://www.kaggle.com/api/v1/datasets/download/arshkon/linkedin-job-postings?dataset_version_number=13...\n"
          ]
        },
        {
          "output_type": "stream",
          "name": "stderr",
          "text": [
            "100%|██████████| 159M/159M [00:01<00:00, 86.1MB/s]"
          ]
        },
        {
          "output_type": "stream",
          "name": "stdout",
          "text": [
            "Extracting files...\n"
          ]
        },
        {
          "output_type": "stream",
          "name": "stderr",
          "text": [
            "\n"
          ]
        },
        {
          "output_type": "stream",
          "name": "stdout",
          "text": [
            "Data source import complete.\n"
          ]
        }
      ],
      "source": [
        "#TO IMPORT YOUR KAGGLE DATA SOURCES,\n",
        "\n",
        "import kagglehub\n",
        "arshkon_linkedin_job_postings_path = kagglehub.dataset_download('arshkon/linkedin-job-postings')\n",
        "\n",
        "print('Data source import complete.')\n"
      ]
    },
    {
      "cell_type": "code",
      "source": [
        "import numpy as np\n",
        "import pandas as pd"
      ],
      "metadata": {
        "id": "OnPsj0gY8WL8"
      },
      "execution_count": null,
      "outputs": []
    },
    {
      "cell_type": "code",
      "source": [
        "df_job_posting = pd.read_csv('postings.csv')\n",
        "df_companies = pd.read_csv('companies.csv')\n",
        "df_comp_industries = pd.read_csv('company_industries.csv')\n",
        "df_comp_specialties = pd.read_csv('company_specialities.csv')"
      ],
      "metadata": {
        "id": "eAVD0Ia5KOQY"
      },
      "execution_count": null,
      "outputs": []
    },
    {
      "cell_type": "code",
      "source": [
        "print(df_job_posting.dtypes)\n",
        "df_job_posting.shape"
      ],
      "metadata": {
        "colab": {
          "base_uri": "https://localhost:8080/"
        },
        "id": "SfWg0aVIK-41",
        "outputId": "fb88701a-4951-47c4-8de3-3b260bf21ae8"
      },
      "execution_count": null,
      "outputs": [
        {
          "output_type": "stream",
          "name": "stdout",
          "text": [
            "job_id                          int64\n",
            "company_name                   object\n",
            "title                          object\n",
            "description                    object\n",
            "max_salary                    float64\n",
            "pay_period                     object\n",
            "location                       object\n",
            "company_id                    float64\n",
            "views                         float64\n",
            "med_salary                    float64\n",
            "min_salary                    float64\n",
            "formatted_work_type            object\n",
            "applies                       float64\n",
            "original_listed_time          float64\n",
            "remote_allowed                float64\n",
            "job_posting_url                object\n",
            "application_url                object\n",
            "application_type               object\n",
            "expiry                        float64\n",
            "closed_time                   float64\n",
            "formatted_experience_level     object\n",
            "skills_desc                    object\n",
            "listed_time                   float64\n",
            "posting_domain                 object\n",
            "sponsored                       int64\n",
            "work_type                      object\n",
            "currency                       object\n",
            "compensation_type              object\n",
            "normalized_salary             float64\n",
            "zip_code                      float64\n",
            "fips                          float64\n",
            "dtype: object\n"
          ]
        },
        {
          "output_type": "execute_result",
          "data": {
            "text/plain": [
              "(123849, 31)"
            ]
          },
          "metadata": {},
          "execution_count": 8
        }
      ]
    },
    {
      "cell_type": "code",
      "source": [
        "print(df_companies.dtypes)\n",
        "df_companies.shape"
      ],
      "metadata": {
        "colab": {
          "base_uri": "https://localhost:8080/"
        },
        "id": "LfHUn-1YLJhA",
        "outputId": "bdcaf4c3-2fd6-4814-9784-bb873d5b02a4"
      },
      "execution_count": null,
      "outputs": [
        {
          "output_type": "stream",
          "name": "stdout",
          "text": [
            "company_id        int64\n",
            "name             object\n",
            "description      object\n",
            "company_size    float64\n",
            "state            object\n",
            "country          object\n",
            "city             object\n",
            "zip_code         object\n",
            "address          object\n",
            "url              object\n",
            "dtype: object\n"
          ]
        },
        {
          "output_type": "execute_result",
          "data": {
            "text/plain": [
              "(24473, 10)"
            ]
          },
          "metadata": {},
          "execution_count": 9
        }
      ]
    },
    {
      "cell_type": "code",
      "source": [
        "print(df_comp_industries.dtypes)\n",
        "df_comp_industries.shape"
      ],
      "metadata": {
        "colab": {
          "base_uri": "https://localhost:8080/"
        },
        "id": "pEr_tH2HLN3R",
        "outputId": "fd2e4720-6e55-419f-81b1-680123f4feae"
      },
      "execution_count": null,
      "outputs": [
        {
          "output_type": "stream",
          "name": "stdout",
          "text": [
            "company_id     int64\n",
            "industry      object\n",
            "dtype: object\n"
          ]
        },
        {
          "output_type": "execute_result",
          "data": {
            "text/plain": [
              "(24375, 2)"
            ]
          },
          "metadata": {},
          "execution_count": 10
        }
      ]
    },
    {
      "cell_type": "code",
      "source": [
        "print(df_comp_specialties.dtypes)\n",
        "df_comp_specialties.shape"
      ],
      "metadata": {
        "colab": {
          "base_uri": "https://localhost:8080/"
        },
        "id": "cun1qhbILRf5",
        "outputId": "0e77b8f9-0d3f-4094-baeb-0ee8a17ebe68"
      },
      "execution_count": null,
      "outputs": [
        {
          "output_type": "stream",
          "name": "stdout",
          "text": [
            "company_id     int64\n",
            "speciality    object\n",
            "dtype: object\n"
          ]
        },
        {
          "output_type": "execute_result",
          "data": {
            "text/plain": [
              "(169387, 2)"
            ]
          },
          "metadata": {},
          "execution_count": 11
        }
      ]
    },
    {
      "cell_type": "code",
      "source": [
        "#Count of blanks / missing values per table\n",
        "\n",
        "# Count blanks (NaNs) per attribute\n",
        "blank_counts_df_posting = df_job_posting.isna().sum()\n",
        "blank_counts_df_companies = df_companies.isna().sum()\n",
        "blank_counts_df_comp_industries = df_comp_industries.isna().sum()\n",
        "blank_counts_df_comp_specialties = df_comp_specialties.isna().sum()\n",
        "\n",
        "print(\"Count of blanks per attribute in job_posting:\")\n",
        "print(blank_counts_df_posting)\n",
        "\n",
        "print(\"Count of blanks per attribute in job_companies:\")\n",
        "print(blank_counts_df_companies)\n",
        "\n",
        "print(\"Count of blanks per attribute in comp_industries:\")\n",
        "print(blank_counts_df_comp_industries)\n",
        "\n",
        "print(\"Count of blanks per attribute in comp_specialties:\")\n",
        "print(blank_counts_df_comp_specialties)"
      ],
      "metadata": {
        "colab": {
          "base_uri": "https://localhost:8080/"
        },
        "id": "syxyn8wrLUPw",
        "outputId": "5d42c49c-6a90-4bfd-9514-b8ab55fa5a64"
      },
      "execution_count": null,
      "outputs": [
        {
          "output_type": "stream",
          "name": "stdout",
          "text": [
            "Count of blanks per attribute in job_posting:\n",
            "job_id                             0\n",
            "company_name                    1719\n",
            "title                              0\n",
            "description                        7\n",
            "max_salary                     94056\n",
            "pay_period                     87776\n",
            "location                           0\n",
            "company_id                      1717\n",
            "views                           1689\n",
            "med_salary                    117569\n",
            "min_salary                     94056\n",
            "formatted_work_type                0\n",
            "applies                       100529\n",
            "original_listed_time               0\n",
            "remote_allowed                108603\n",
            "job_posting_url                    0\n",
            "application_url                36665\n",
            "application_type                   0\n",
            "expiry                             0\n",
            "closed_time                   122776\n",
            "formatted_experience_level     29409\n",
            "skills_desc                   121410\n",
            "listed_time                        0\n",
            "posting_domain                 39968\n",
            "sponsored                          0\n",
            "work_type                          0\n",
            "currency                       87776\n",
            "compensation_type              87776\n",
            "normalized_salary              87776\n",
            "zip_code                       20872\n",
            "fips                           27415\n",
            "dtype: int64\n",
            "Count of blanks per attribute in job_companies:\n",
            "company_id         0\n",
            "name               1\n",
            "description      297\n",
            "company_size    2774\n",
            "state             22\n",
            "country            0\n",
            "city               1\n",
            "zip_code          28\n",
            "address           22\n",
            "url                0\n",
            "dtype: int64\n",
            "Count of blanks per attribute in comp_industries:\n",
            "company_id    0\n",
            "industry      0\n",
            "dtype: int64\n",
            "Count of blanks per attribute in comp_specialties:\n",
            "company_id    0\n",
            "speciality    0\n",
            "dtype: int64\n"
          ]
        }
      ]
    },
    {
      "cell_type": "code",
      "source": [
        "#Drop rows where company_name is blank (NaN)\n",
        "df_cleaned_comp_name = df_job_posting.dropna(subset=['company_name'])"
      ],
      "metadata": {
        "id": "5K1mwbwDLh4v"
      },
      "execution_count": null,
      "outputs": []
    },
    {
      "cell_type": "code",
      "source": [
        "#Drop rows where views is blank (NaN)\n",
        "df_cleaned_views = df_cleaned_comp_name.dropna(subset=['views'])\n",
        "df_cleaned_views.shape"
      ],
      "metadata": {
        "colab": {
          "base_uri": "https://localhost:8080/"
        },
        "id": "UW6EPX6lLmKS",
        "outputId": "62535b24-74aa-4fb4-f4dd-760e73c6418e"
      },
      "execution_count": null,
      "outputs": [
        {
          "output_type": "execute_result",
          "data": {
            "text/plain": [
              "(120503, 31)"
            ]
          },
          "metadata": {},
          "execution_count": 14
        }
      ]
    },
    {
      "cell_type": "code",
      "source": [
        "#Rename 'description' attributes to identify between job and company description\n",
        "df_cleaned_views.rename(columns={'description': 'job_description'}, inplace=True)\n",
        "df_companies.rename(columns={'description': 'comp_description'}, inplace=True)\n",
        "\n",
        "#Join df_cleaned_views, df_companies, df_comp_industries, df_comp_specialties\n",
        "\n",
        "#Left Join\n",
        "left_join = pd.merge(df_cleaned_views[['company_id','company_name','title','job_description','formatted_work_type','skills_desc','location','views']],\n",
        "                     df_companies[['company_id','comp_description']],\n",
        "                     on='company_id', how='left')\n",
        "left_join.shape"
      ],
      "metadata": {
        "colab": {
          "base_uri": "https://localhost:8080/"
        },
        "id": "W8qBISV3LnoD",
        "outputId": "bb35b0ea-6e5c-4a45-b8a8-0543fd983b78"
      },
      "execution_count": null,
      "outputs": [
        {
          "output_type": "stream",
          "name": "stderr",
          "text": [
            "<ipython-input-15-35cb0f61da94>:2: SettingWithCopyWarning: \n",
            "A value is trying to be set on a copy of a slice from a DataFrame\n",
            "\n",
            "See the caveats in the documentation: https://pandas.pydata.org/pandas-docs/stable/user_guide/indexing.html#returning-a-view-versus-a-copy\n",
            "  df_cleaned_views.rename(columns={'description': 'job_description'}, inplace=True)\n"
          ]
        },
        {
          "output_type": "execute_result",
          "data": {
            "text/plain": [
              "(120503, 9)"
            ]
          },
          "metadata": {},
          "execution_count": 15
        }
      ]
    },
    {
      "cell_type": "code",
      "source": [
        "#Left Join\n",
        "left_join = pd.merge(left_join,\n",
        "                     df_comp_industries[['company_id','industry']],\n",
        "                     on='company_id', how='left')\n",
        "left_join.shape"
      ],
      "metadata": {
        "colab": {
          "base_uri": "https://localhost:8080/"
        },
        "id": "rumg398jLvog",
        "outputId": "ed016a52-cdc8-47f0-8217-1572b6003ece"
      },
      "execution_count": null,
      "outputs": [
        {
          "output_type": "execute_result",
          "data": {
            "text/plain": [
              "(120650, 10)"
            ]
          },
          "metadata": {},
          "execution_count": 16
        }
      ]
    },
    {
      "cell_type": "code",
      "source": [
        "#Normalize comp_specialties table\n",
        "aggregated_specialties = df_comp_specialties.groupby('company_id')['speciality'].apply(lambda x: ' '.join(x)).reset_index()\n",
        "\n",
        "aggregated_specialties.shape\n",
        "aggregated_specialties.head(3)"
      ],
      "metadata": {
        "colab": {
          "base_uri": "https://localhost:8080/",
          "height": 143
        },
        "id": "2aLtu2CnLxDa",
        "outputId": "a2f9a30b-500c-4e73-8576-60db856bf136"
      },
      "execution_count": null,
      "outputs": [
        {
          "output_type": "execute_result",
          "data": {
            "text/plain": [
              "   company_id                                         speciality\n",
              "0        1009  Cloud Mobile Cognitive Security Research Watso...\n",
              "1        1016                           Healthcare Biotechnology\n",
              "2        1028  enterprise software applications database midd..."
            ],
            "text/html": [
              "\n",
              "  <div id=\"df-c7740ea2-5848-47fd-84d1-709440f2cb68\" class=\"colab-df-container\">\n",
              "    <div>\n",
              "<style scoped>\n",
              "    .dataframe tbody tr th:only-of-type {\n",
              "        vertical-align: middle;\n",
              "    }\n",
              "\n",
              "    .dataframe tbody tr th {\n",
              "        vertical-align: top;\n",
              "    }\n",
              "\n",
              "    .dataframe thead th {\n",
              "        text-align: right;\n",
              "    }\n",
              "</style>\n",
              "<table border=\"1\" class=\"dataframe\">\n",
              "  <thead>\n",
              "    <tr style=\"text-align: right;\">\n",
              "      <th></th>\n",
              "      <th>company_id</th>\n",
              "      <th>speciality</th>\n",
              "    </tr>\n",
              "  </thead>\n",
              "  <tbody>\n",
              "    <tr>\n",
              "      <th>0</th>\n",
              "      <td>1009</td>\n",
              "      <td>Cloud Mobile Cognitive Security Research Watso...</td>\n",
              "    </tr>\n",
              "    <tr>\n",
              "      <th>1</th>\n",
              "      <td>1016</td>\n",
              "      <td>Healthcare Biotechnology</td>\n",
              "    </tr>\n",
              "    <tr>\n",
              "      <th>2</th>\n",
              "      <td>1028</td>\n",
              "      <td>enterprise software applications database midd...</td>\n",
              "    </tr>\n",
              "  </tbody>\n",
              "</table>\n",
              "</div>\n",
              "    <div class=\"colab-df-buttons\">\n",
              "\n",
              "  <div class=\"colab-df-container\">\n",
              "    <button class=\"colab-df-convert\" onclick=\"convertToInteractive('df-c7740ea2-5848-47fd-84d1-709440f2cb68')\"\n",
              "            title=\"Convert this dataframe to an interactive table.\"\n",
              "            style=\"display:none;\">\n",
              "\n",
              "  <svg xmlns=\"http://www.w3.org/2000/svg\" height=\"24px\" viewBox=\"0 -960 960 960\">\n",
              "    <path d=\"M120-120v-720h720v720H120Zm60-500h600v-160H180v160Zm220 220h160v-160H400v160Zm0 220h160v-160H400v160ZM180-400h160v-160H180v160Zm440 0h160v-160H620v160ZM180-180h160v-160H180v160Zm440 0h160v-160H620v160Z\"/>\n",
              "  </svg>\n",
              "    </button>\n",
              "\n",
              "  <style>\n",
              "    .colab-df-container {\n",
              "      display:flex;\n",
              "      gap: 12px;\n",
              "    }\n",
              "\n",
              "    .colab-df-convert {\n",
              "      background-color: #E8F0FE;\n",
              "      border: none;\n",
              "      border-radius: 50%;\n",
              "      cursor: pointer;\n",
              "      display: none;\n",
              "      fill: #1967D2;\n",
              "      height: 32px;\n",
              "      padding: 0 0 0 0;\n",
              "      width: 32px;\n",
              "    }\n",
              "\n",
              "    .colab-df-convert:hover {\n",
              "      background-color: #E2EBFA;\n",
              "      box-shadow: 0px 1px 2px rgba(60, 64, 67, 0.3), 0px 1px 3px 1px rgba(60, 64, 67, 0.15);\n",
              "      fill: #174EA6;\n",
              "    }\n",
              "\n",
              "    .colab-df-buttons div {\n",
              "      margin-bottom: 4px;\n",
              "    }\n",
              "\n",
              "    [theme=dark] .colab-df-convert {\n",
              "      background-color: #3B4455;\n",
              "      fill: #D2E3FC;\n",
              "    }\n",
              "\n",
              "    [theme=dark] .colab-df-convert:hover {\n",
              "      background-color: #434B5C;\n",
              "      box-shadow: 0px 1px 3px 1px rgba(0, 0, 0, 0.15);\n",
              "      filter: drop-shadow(0px 1px 2px rgba(0, 0, 0, 0.3));\n",
              "      fill: #FFFFFF;\n",
              "    }\n",
              "  </style>\n",
              "\n",
              "    <script>\n",
              "      const buttonEl =\n",
              "        document.querySelector('#df-c7740ea2-5848-47fd-84d1-709440f2cb68 button.colab-df-convert');\n",
              "      buttonEl.style.display =\n",
              "        google.colab.kernel.accessAllowed ? 'block' : 'none';\n",
              "\n",
              "      async function convertToInteractive(key) {\n",
              "        const element = document.querySelector('#df-c7740ea2-5848-47fd-84d1-709440f2cb68');\n",
              "        const dataTable =\n",
              "          await google.colab.kernel.invokeFunction('convertToInteractive',\n",
              "                                                    [key], {});\n",
              "        if (!dataTable) return;\n",
              "\n",
              "        const docLinkHtml = 'Like what you see? Visit the ' +\n",
              "          '<a target=\"_blank\" href=https://colab.research.google.com/notebooks/data_table.ipynb>data table notebook</a>'\n",
              "          + ' to learn more about interactive tables.';\n",
              "        element.innerHTML = '';\n",
              "        dataTable['output_type'] = 'display_data';\n",
              "        await google.colab.output.renderOutput(dataTable, element);\n",
              "        const docLink = document.createElement('div');\n",
              "        docLink.innerHTML = docLinkHtml;\n",
              "        element.appendChild(docLink);\n",
              "      }\n",
              "    </script>\n",
              "  </div>\n",
              "\n",
              "\n",
              "<div id=\"df-a36abb89-c789-427b-9126-6a9f2f39f4e9\">\n",
              "  <button class=\"colab-df-quickchart\" onclick=\"quickchart('df-a36abb89-c789-427b-9126-6a9f2f39f4e9')\"\n",
              "            title=\"Suggest charts\"\n",
              "            style=\"display:none;\">\n",
              "\n",
              "<svg xmlns=\"http://www.w3.org/2000/svg\" height=\"24px\"viewBox=\"0 0 24 24\"\n",
              "     width=\"24px\">\n",
              "    <g>\n",
              "        <path d=\"M19 3H5c-1.1 0-2 .9-2 2v14c0 1.1.9 2 2 2h14c1.1 0 2-.9 2-2V5c0-1.1-.9-2-2-2zM9 17H7v-7h2v7zm4 0h-2V7h2v10zm4 0h-2v-4h2v4z\"/>\n",
              "    </g>\n",
              "</svg>\n",
              "  </button>\n",
              "\n",
              "<style>\n",
              "  .colab-df-quickchart {\n",
              "      --bg-color: #E8F0FE;\n",
              "      --fill-color: #1967D2;\n",
              "      --hover-bg-color: #E2EBFA;\n",
              "      --hover-fill-color: #174EA6;\n",
              "      --disabled-fill-color: #AAA;\n",
              "      --disabled-bg-color: #DDD;\n",
              "  }\n",
              "\n",
              "  [theme=dark] .colab-df-quickchart {\n",
              "      --bg-color: #3B4455;\n",
              "      --fill-color: #D2E3FC;\n",
              "      --hover-bg-color: #434B5C;\n",
              "      --hover-fill-color: #FFFFFF;\n",
              "      --disabled-bg-color: #3B4455;\n",
              "      --disabled-fill-color: #666;\n",
              "  }\n",
              "\n",
              "  .colab-df-quickchart {\n",
              "    background-color: var(--bg-color);\n",
              "    border: none;\n",
              "    border-radius: 50%;\n",
              "    cursor: pointer;\n",
              "    display: none;\n",
              "    fill: var(--fill-color);\n",
              "    height: 32px;\n",
              "    padding: 0;\n",
              "    width: 32px;\n",
              "  }\n",
              "\n",
              "  .colab-df-quickchart:hover {\n",
              "    background-color: var(--hover-bg-color);\n",
              "    box-shadow: 0 1px 2px rgba(60, 64, 67, 0.3), 0 1px 3px 1px rgba(60, 64, 67, 0.15);\n",
              "    fill: var(--button-hover-fill-color);\n",
              "  }\n",
              "\n",
              "  .colab-df-quickchart-complete:disabled,\n",
              "  .colab-df-quickchart-complete:disabled:hover {\n",
              "    background-color: var(--disabled-bg-color);\n",
              "    fill: var(--disabled-fill-color);\n",
              "    box-shadow: none;\n",
              "  }\n",
              "\n",
              "  .colab-df-spinner {\n",
              "    border: 2px solid var(--fill-color);\n",
              "    border-color: transparent;\n",
              "    border-bottom-color: var(--fill-color);\n",
              "    animation:\n",
              "      spin 1s steps(1) infinite;\n",
              "  }\n",
              "\n",
              "  @keyframes spin {\n",
              "    0% {\n",
              "      border-color: transparent;\n",
              "      border-bottom-color: var(--fill-color);\n",
              "      border-left-color: var(--fill-color);\n",
              "    }\n",
              "    20% {\n",
              "      border-color: transparent;\n",
              "      border-left-color: var(--fill-color);\n",
              "      border-top-color: var(--fill-color);\n",
              "    }\n",
              "    30% {\n",
              "      border-color: transparent;\n",
              "      border-left-color: var(--fill-color);\n",
              "      border-top-color: var(--fill-color);\n",
              "      border-right-color: var(--fill-color);\n",
              "    }\n",
              "    40% {\n",
              "      border-color: transparent;\n",
              "      border-right-color: var(--fill-color);\n",
              "      border-top-color: var(--fill-color);\n",
              "    }\n",
              "    60% {\n",
              "      border-color: transparent;\n",
              "      border-right-color: var(--fill-color);\n",
              "    }\n",
              "    80% {\n",
              "      border-color: transparent;\n",
              "      border-right-color: var(--fill-color);\n",
              "      border-bottom-color: var(--fill-color);\n",
              "    }\n",
              "    90% {\n",
              "      border-color: transparent;\n",
              "      border-bottom-color: var(--fill-color);\n",
              "    }\n",
              "  }\n",
              "</style>\n",
              "\n",
              "  <script>\n",
              "    async function quickchart(key) {\n",
              "      const quickchartButtonEl =\n",
              "        document.querySelector('#' + key + ' button');\n",
              "      quickchartButtonEl.disabled = true;  // To prevent multiple clicks.\n",
              "      quickchartButtonEl.classList.add('colab-df-spinner');\n",
              "      try {\n",
              "        const charts = await google.colab.kernel.invokeFunction(\n",
              "            'suggestCharts', [key], {});\n",
              "      } catch (error) {\n",
              "        console.error('Error during call to suggestCharts:', error);\n",
              "      }\n",
              "      quickchartButtonEl.classList.remove('colab-df-spinner');\n",
              "      quickchartButtonEl.classList.add('colab-df-quickchart-complete');\n",
              "    }\n",
              "    (() => {\n",
              "      let quickchartButtonEl =\n",
              "        document.querySelector('#df-a36abb89-c789-427b-9126-6a9f2f39f4e9 button');\n",
              "      quickchartButtonEl.style.display =\n",
              "        google.colab.kernel.accessAllowed ? 'block' : 'none';\n",
              "    })();\n",
              "  </script>\n",
              "</div>\n",
              "\n",
              "    </div>\n",
              "  </div>\n"
            ],
            "application/vnd.google.colaboratory.intrinsic+json": {
              "type": "dataframe",
              "variable_name": "aggregated_specialties",
              "summary": "{\n  \"name\": \"aggregated_specialties\",\n  \"rows\": 17780,\n  \"fields\": [\n    {\n      \"column\": \"company_id\",\n      \"properties\": {\n        \"dtype\": \"number\",\n        \"std\": 25486132,\n        \"min\": 1009,\n        \"max\": 103458790,\n        \"num_unique_values\": 17780,\n        \"samples\": [\n          1239084,\n          5843,\n          27253098\n        ],\n        \"semantic_type\": \"\",\n        \"description\": \"\"\n      }\n    },\n    {\n      \"column\": \"speciality\",\n      \"properties\": {\n        \"dtype\": \"string\",\n        \"num_unique_values\": 17676,\n        \"samples\": [\n          \"Group Purchasing Cooperative Purchasing Spend Management  Supply Chain Supply Chain Management Category Management Strategic Sourcing Awarded Contracts Contract Management Procurement\",\n          \"Power Tools Cordless Tools Manufacturing Consumer Goods Construction Tools Quality Technology Solutions Innovation Engineering\",\n          \"Light Microscopes Confocal Microscopes Surgical Microscopes Stereo Microscopes and Macroscopes Digital Microscopes Microscope Software & Cameras Electron Microscopy Sample Preparation Super-Resolution Microscopes Nanoscopes\"\n        ],\n        \"semantic_type\": \"\",\n        \"description\": \"\"\n      }\n    }\n  ]\n}"
            }
          },
          "metadata": {},
          "execution_count": 17
        }
      ]
    },
    {
      "cell_type": "code",
      "source": [
        "#Final Left Join\n",
        "joined_data = pd.merge(left_join,\n",
        "                     aggregated_specialties[['company_id','speciality']],\n",
        "                     on='company_id', how='left')\n",
        "\n",
        "joined_data.shape"
      ],
      "metadata": {
        "colab": {
          "base_uri": "https://localhost:8080/"
        },
        "id": "KoqS0clOL0i7",
        "outputId": "79d3f0ba-2f19-4d3a-dcd0-0238ac4ca793"
      },
      "execution_count": null,
      "outputs": [
        {
          "output_type": "execute_result",
          "data": {
            "text/plain": [
              "(120650, 11)"
            ]
          },
          "metadata": {},
          "execution_count": 18
        }
      ]
    },
    {
      "cell_type": "code",
      "source": [
        "#Check blank values in final dataset\n",
        "blank_joined_data = joined_data.isna().sum()\n",
        "print(\"Count of blanks per attribute in job_posting:\")\n",
        "print(blank_joined_data)"
      ],
      "metadata": {
        "colab": {
          "base_uri": "https://localhost:8080/"
        },
        "id": "Pm9F4vq5L40d",
        "outputId": "cc198485-6921-4363-dbc4-49ed73519298"
      },
      "execution_count": null,
      "outputs": [
        {
          "output_type": "stream",
          "name": "stdout",
          "text": [
            "Count of blanks per attribute in job_posting:\n",
            "company_id                  0\n",
            "company_name                0\n",
            "title                       0\n",
            "job_description             6\n",
            "formatted_work_type         0\n",
            "skills_desc            118285\n",
            "location                    0\n",
            "views                       0\n",
            "comp_description         1005\n",
            "industry                  153\n",
            "speciality              25764\n",
            "dtype: int64\n"
          ]
        }
      ]
    },
    {
      "cell_type": "code",
      "source": [
        "#Create new feature combining title, job_description, skills_desc\n",
        "joined_data['job_details'] = joined_data['title'] + ' ' + joined_data['job_description'] + ' ' + joined_data['skills_desc']\n",
        "\n",
        "\n",
        "joined_data.shape"
      ],
      "metadata": {
        "colab": {
          "base_uri": "https://localhost:8080/"
        },
        "id": "jZN2hPoZL8LK",
        "outputId": "7f9b9b6c-d0ca-42bc-8df0-446e05507e32"
      },
      "execution_count": null,
      "outputs": [
        {
          "output_type": "execute_result",
          "data": {
            "text/plain": [
              "(120650, 12)"
            ]
          },
          "metadata": {},
          "execution_count": 20
        }
      ]
    },
    {
      "cell_type": "code",
      "source": [
        "#Check blank values in final dataset\n",
        "blank_joined_data = joined_data.isna().sum()\n",
        "print(\"Count of blanks per attribute in job_posting:\")\n",
        "print(blank_joined_data)"
      ],
      "metadata": {
        "colab": {
          "base_uri": "https://localhost:8080/"
        },
        "id": "KXQJPOjoL_J3",
        "outputId": "4ad6c79d-1822-43ab-c89a-51e83b156c40"
      },
      "execution_count": null,
      "outputs": [
        {
          "output_type": "stream",
          "name": "stdout",
          "text": [
            "Count of blanks per attribute in job_posting:\n",
            "company_id                  0\n",
            "company_name                0\n",
            "title                       0\n",
            "job_description             6\n",
            "formatted_work_type         0\n",
            "skills_desc            118285\n",
            "location                    0\n",
            "views                       0\n",
            "comp_description         1005\n",
            "industry                  153\n",
            "speciality              25764\n",
            "job_details            118285\n",
            "dtype: int64\n"
          ]
        }
      ]
    },
    {
      "cell_type": "code",
      "source": [
        "#Replace NaN\n",
        "joined_data['title'] = joined_data['title'].fillna(' ')\n",
        "joined_data['job_description'] = joined_data['job_description'].fillna(' ')\n",
        "joined_data['skills_desc'] = joined_data['skills_desc'].fillna(' ')\n",
        "\n",
        "joined_data['comp_description'] = joined_data['comp_description'].fillna('missing company description')\n",
        "joined_data['speciality'] = joined_data['speciality'].fillna('missing speciality')\n",
        "joined_data['industry'] = joined_data['industry'].fillna('missing industry')"
      ],
      "metadata": {
        "id": "Vtkf0tjQMBwl"
      },
      "execution_count": null,
      "outputs": []
    },
    {
      "cell_type": "code",
      "source": [
        "joined_data['job_details'] = joined_data['title'] + ' ' + joined_data['job_description'] + ' ' + joined_data['skills_desc']"
      ],
      "metadata": {
        "id": "UaOvtqJMMIOz"
      },
      "execution_count": null,
      "outputs": []
    },
    {
      "cell_type": "code",
      "source": [
        "blank_joined_data = joined_data.isna().sum()\n",
        "print(\"Count of blanks per attribute in job_posting:\")\n",
        "print(blank_joined_data)"
      ],
      "metadata": {
        "colab": {
          "base_uri": "https://localhost:8080/"
        },
        "id": "Y2Dnif9ZML26",
        "outputId": "9ee93907-d315-42ee-d517-e12e22f308e2"
      },
      "execution_count": null,
      "outputs": [
        {
          "output_type": "stream",
          "name": "stdout",
          "text": [
            "Count of blanks per attribute in job_posting:\n",
            "company_id             0\n",
            "company_name           0\n",
            "title                  0\n",
            "job_description        0\n",
            "formatted_work_type    0\n",
            "skills_desc            0\n",
            "location               0\n",
            "views                  0\n",
            "comp_description       0\n",
            "industry               0\n",
            "speciality             0\n",
            "job_details            0\n",
            "dtype: int64\n"
          ]
        }
      ]
    },
    {
      "cell_type": "code",
      "source": [
        "#Check missing job_details\n",
        "nan_records = joined_data[joined_data['job_details'].isna()]\n",
        "print(nan_records)"
      ],
      "metadata": {
        "colab": {
          "base_uri": "https://localhost:8080/"
        },
        "id": "ChTYjSrGMPJa",
        "outputId": "7c03abfb-65bc-4345-8fcb-f6d56489d376"
      },
      "execution_count": null,
      "outputs": [
        {
          "output_type": "stream",
          "name": "stdout",
          "text": [
            "Empty DataFrame\n",
            "Columns: [company_id, company_name, title, job_description, formatted_work_type, skills_desc, location, views, comp_description, industry, speciality, job_details]\n",
            "Index: []\n"
          ]
        }
      ]
    }
  ]
}